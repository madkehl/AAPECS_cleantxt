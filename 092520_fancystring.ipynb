{
 "cells": [
  {
   "cell_type": "code",
   "execution_count": 243,
   "metadata": {},
   "outputs": [],
   "source": [
    "import pandas as pd\n",
    "import numpy as np\n",
    "import statistics\n",
    "\n",
    "from string import punctuation\n",
    "from re import sub\n",
    "\n",
    "import nltk\n",
    "from nltk.tokenize import word_tokenize\n",
    "from nltk.corpus import stopwords\n",
    "from nltk import pos_tag\n",
    "\n",
    "import spacy\n",
    "nlp = spacy.load(\"en_core_web_md\")"
   ]
  },
  {
   "cell_type": "code",
   "execution_count": 244,
   "metadata": {},
   "outputs": [],
   "source": [
    "stop_words = list(set(stopwords.words('english')))\n",
    "total_df = pd.read_csv('/Users/madke/Documents/AAPECSMadeline.csv', index_col = 0)\n",
    "\n",
    "cats = total_df[pd.notnull(total_df.stressDescription)]\n",
    "catu = total_df[pd.notnull(total_df.unpleasantEventDescription)] \n",
    "catu = catu[~(catu['unpleasantEventDescription'] == 'none')]\n",
    "catu = catu[~(catu['unpleasantEventDescription'] == 'none ')]\n",
    "catp = total_df[pd.notnull(total_df.pleasantEventDescription)]\n",
    "\n",
    "stress_text = list(cats['stressDescription'])\n",
    "unpleasant_text = list(catu['unpleasantEventDescription'])\n",
    "pleasant_text = list(catp['pleasantEventDescription'])\n",
    "\n",
    "IC_sample = stress_text + pleasant_text + unpleasant_text\n",
    "pID = list(cats['participantID']) + list(catp['participantID']) + list(catu['participantID'])\n",
    "\n",
    "nlp = spacy.load(\"en_core_web_md\")\n",
    "\n",
    "def prettify (pos_tagged):    \n",
    "    p_2 = \"\"\n",
    "    for z in pos_tagged:\n",
    "        if (z[0].lower() != 'i') and (('VB' in z[1]) or ('NN' in z[1])):\n",
    "            p_2= p_2 + \" \" + str(z[0].lower())\n",
    "    if len(p_2) == 0:\n",
    "        for z in pos_tagged:\n",
    "            if len(z[0]) > 4 and (z[0]) != ' none':\n",
    "                p_2= p_2 + \" \" + str(z[0].lower())\n",
    "    return(p_2)\n",
    "\n",
    "translator = str.maketrans('','', sub('\\#', '', punctuation))\n",
    "\n",
    "IC_samplew = []\n",
    "for i in IC_sample:\n",
    "    n = i.split()\n",
    "    sub = \"\"\n",
    "    for z in n:\n",
    "        z = z.lower()\n",
    "        s = z.translate(str.maketrans(translator))\n",
    "        sub = sub + \" \" + s\n",
    "    IC_samplew.append(sub)"
   ]
  },
  {
   "cell_type": "code",
   "execution_count": 178,
   "metadata": {},
   "outputs": [],
   "source": [
    "class FancyString(str):\n",
    "    \n",
    "    def __init__(self, sent):\n",
    "        self.txt = sent\n",
    "        \n",
    "    def is_passive(self):\n",
    "        z = nltk.word_tokenize(self)\n",
    "        meh = nltk.pos_tag(z)\n",
    "        f = prettify(meh)\n",
    "        f = nltk.word_tokenize(f)\n",
    "        f = nltk.pos_tag(f)\n",
    "        q = 0\n",
    "        countpass = 0\n",
    "        passlist = []\n",
    "        for n in f:\n",
    "           # print(n)\n",
    "            if (n[1] == 'VBN'):\n",
    "                q = f.index(n)\n",
    "                for z in meh[q-1]:\n",
    "                    if ('have' not in meh[q-1] and 'has' not in meh[q-1] and 'had' not in meh[q-1] and 'VB' in z):\n",
    "                        if ((meh[q-1][0] + ' ' + n[0]) not in passlist):\n",
    "                            self.passive = 1\n",
    "                            return(self.passive)\n",
    "        self.passive = 0\n",
    "        return(self.passive)\n",
    "\n",
    "    def wordcount(self):\n",
    "        split = self.split()\n",
    "        self.length = (len(split))\n",
    "        return(self.length)\n",
    "\n",
    "    def me_count (self):    \n",
    "        p_2 = \"\"\n",
    "        split = self.split()\n",
    "        first_single = ['i', 'me', 'mine', 'myself']\n",
    "        first_s = 0\n",
    "        for z in split:\n",
    "            if (z.lower() in first_single):\n",
    "                first_s += 1\n",
    "        self.me_count = first_s\n",
    "        return(self.me_count)\n",
    "\n",
    "    def ad_count(self):\n",
    "        z = nltk.word_tokenize(self)\n",
    "        meh = nltk.pos_tag(z)\n",
    "        adj = 0\n",
    "        for i in meh:\n",
    "            if (i[1] == 'RB') or (i[1] == 'JJ'):\n",
    "                adj += 1\n",
    "        self.ad_count = adj\n",
    "        return(self.ad_count)\n",
    "    \n",
    "    def spacy_vec(self):\n",
    "        v = str(self)\n",
    "        v = nlp(v).vector\n",
    "        self.spacy_vec = v\n",
    "        return(self.spacy_vec)"
   ]
  },
  {
   "cell_type": "code",
   "execution_count": 245,
   "metadata": {},
   "outputs": [],
   "source": [
    "fancy_strs = [FancyString(i) for i in IC_samplew if i != 'none']"
   ]
  },
  {
   "cell_type": "code",
   "execution_count": 247,
   "metadata": {},
   "outputs": [],
   "source": [
    "df_constructed = pd.DataFrame({\n",
    "    \n",
    "    'pID': pID,\n",
    "    'passive': [i.is_passive() for i in fancy_strs],\n",
    "    'wc': [i.wordcount() for i in fancy_strs],\n",
    "    'mec': [i.me_count() for i in fancy_strs],\n",
    "    'adc': [i.ad_count() for i in fancy_strs],\n",
    "    'val': [1] * len(fancy_strs),\n",
    "    'group': ['stress']*len(stress_text) +['pleasant']*len(pleasant_text)+['unpleasant']*len(unpleasant_text)\n",
    "    \n",
    "})"
   ]
  },
  {
   "cell_type": "code",
   "execution_count": 248,
   "metadata": {},
   "outputs": [],
   "source": [
    "df_const_short = df_constructed.groupby(['pID', 'group']).agg('mean')"
   ]
  },
  {
   "cell_type": "code",
   "execution_count": 249,
   "metadata": {},
   "outputs": [],
   "source": [
    "formal_vals = pd.pivot_table(df_const_short, index=['pID'], columns=['group'], aggfunc=np.sum, fill_value=0)\n",
    "formal_vals = formal_vals.reset_index()\n",
    "formal_vals.columns = ['pID', 'adc_stress', 'adc_pleasant', 'adc_unpleasant', 'mec_stress', 'mec_pleasant', 'mec_unpleasant', 'passive_stress', 'passive_pleasant',\n",
    "       'passive_unpleasant', 'val_stress', 'val_pleasant', 'val_unpleasant', 'wc_stress', 'wc_pleasant', 'wc_unpleasant']\n",
    "formal_vals.to_csv('/users/madke/documents/092520_aapecsformalvals.csv')"
   ]
  },
  {
   "cell_type": "code",
   "execution_count": 181,
   "metadata": {},
   "outputs": [],
   "source": [
    "vector = [i.spacy_vec() for i in fancy_strs]"
   ]
  },
  {
   "cell_type": "code",
   "execution_count": 191,
   "metadata": {},
   "outputs": [],
   "source": [
    "vec_df = pd.DataFrame(np.vstack(vector))\n",
    "vec_df.to_csv('/users/madke/documents/092620_aapecsdims.csv')"
   ]
  },
  {
   "cell_type": "code",
   "execution_count": 241,
   "metadata": {},
   "outputs": [
    {
     "data": {
      "text/html": [
       "<div>\n",
       "<style scoped>\n",
       "    .dataframe tbody tr th:only-of-type {\n",
       "        vertical-align: middle;\n",
       "    }\n",
       "\n",
       "    .dataframe tbody tr th {\n",
       "        vertical-align: top;\n",
       "    }\n",
       "\n",
       "    .dataframe thead th {\n",
       "        text-align: right;\n",
       "    }\n",
       "</style>\n",
       "<table border=\"1\" class=\"dataframe\">\n",
       "  <thead>\n",
       "    <tr style=\"text-align: right;\">\n",
       "      <th></th>\n",
       "      <th>participantID</th>\n",
       "      <th>beginTimeEMA</th>\n",
       "      <th>finishTimeEMA</th>\n",
       "      <th>stressDescription</th>\n",
       "      <th>unpleasantEventDescription</th>\n",
       "      <th>pleasantEventDescription</th>\n",
       "    </tr>\n",
       "  </thead>\n",
       "  <tbody>\n",
       "    <tr>\n",
       "      <th>2173</th>\n",
       "      <td>133</td>\n",
       "      <td>2017-03-08 18:29:32</td>\n",
       "      <td>2017-03-08 18:37:06</td>\n",
       "      <td>NaN</td>\n",
       "      <td>none since last assessment</td>\n",
       "      <td>All 3 kids played a game other than electronics</td>\n",
       "    </tr>\n",
       "    <tr>\n",
       "      <th>2197</th>\n",
       "      <td>133</td>\n",
       "      <td>2017-03-13 18:14:04</td>\n",
       "      <td>2017-03-13 18:19:43</td>\n",
       "      <td>NaN</td>\n",
       "      <td>none</td>\n",
       "      <td>My son has already showered which is a huge ac...</td>\n",
       "    </tr>\n",
       "  </tbody>\n",
       "</table>\n",
       "</div>"
      ],
      "text/plain": [
       "      participantID         beginTimeEMA        finishTimeEMA  \\\n",
       "2173            133  2017-03-08 18:29:32  2017-03-08 18:37:06   \n",
       "2197            133  2017-03-13 18:14:04  2017-03-13 18:19:43   \n",
       "\n",
       "     stressDescription  unpleasantEventDescription  \\\n",
       "2173               NaN  none since last assessment   \n",
       "2197               NaN                       none    \n",
       "\n",
       "                               pleasantEventDescription  \n",
       "2173   All 3 kids played a game other than electronics   \n",
       "2197  My son has already showered which is a huge ac...  "
      ]
     },
     "execution_count": 241,
     "metadata": {},
     "output_type": "execute_result"
    }
   ],
   "source": [
    "(total_df[total_df['unpleasantEventDescription'].str.match('none ', na = False)])"
   ]
  },
  {
   "cell_type": "code",
   "execution_count": 250,
   "metadata": {},
   "outputs": [
    {
     "name": "stdout",
     "output_type": "stream",
     "text": [
      "2446\n",
      "4144\n",
      "1016\n"
     ]
    }
   ],
   "source": [
    "print(len(stress_text)) \n",
    "print(len(pleasant_text))\n",
    "print(len(unpleasant_text))"
   ]
  }
 ],
 "metadata": {
  "kernelspec": {
   "display_name": "Python 3",
   "language": "python",
   "name": "python3"
  },
  "language_info": {
   "codemirror_mode": {
    "name": "ipython",
    "version": 3
   },
   "file_extension": ".py",
   "mimetype": "text/x-python",
   "name": "python",
   "nbconvert_exporter": "python",
   "pygments_lexer": "ipython3",
   "version": "3.6.4"
  }
 },
 "nbformat": 4,
 "nbformat_minor": 2
}
