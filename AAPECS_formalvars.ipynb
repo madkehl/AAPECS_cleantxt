{
 "cells": [
  {
   "cell_type": "code",
   "execution_count": 243,
   "metadata": {},
   "outputs": [],
   "source": [
    "exec(open(\"./fancy_string.py\").read())\n",
    "\n",
    "import pandas as pd\n",
    "import numpy as np\n",
    "import statistics\n",
    "\n",
    "from string import punctuation\n",
    "from re import sub"
   ]
  },
  {
   "cell_type": "code",
   "execution_count": 244,
   "metadata": {},
   "outputs": [],
   "source": [
    "total_df = pd.read_csv('/Users/madke/Documents/AAPECSMadeline.csv', index_col = 0)\n",
    "\n",
    "cats = total_df[pd.notnull(total_df.stressDescription)]\n",
    "catu = total_df[pd.notnull(total_df.unpleasantEventDescription)] \n",
    "catu = catu[~(catu['unpleasantEventDescription'] == 'none')]\n",
    "catu = catu[~(catu['unpleasantEventDescription'] == 'none ')]\n",
    "catp = total_df[pd.notnull(total_df.pleasantEventDescription)]\n",
    "\n",
    "stress_text = list(cats['stressDescription'])\n",
    "unpleasant_text = list(catu['unpleasantEventDescription'])\n",
    "pleasant_text = list(catp['pleasantEventDescription'])\n",
    "\n",
    "IC_sample = stress_text + pleasant_text + unpleasant_text\n",
    "pID = list(cats['participantID']) + list(catp['participantID']) + list(catu['participantID'])\n",
    "\n",
    "translator = str.maketrans('','', sub('\\#', '', punctuation))\n",
    "\n",
    "IC_samplew = []\n",
    "for i in IC_sample:\n",
    "    n = i.split()\n",
    "    sub = \"\"\n",
    "    for z in n:\n",
    "        z = z.lower()\n",
    "        s = z.translate(str.maketrans(translator))\n",
    "        sub = sub + \" \" + s\n",
    "    IC_samplew.append(sub)"
   ]
  },
  {
   "cell_type": "code",
   "execution_count": 245,
   "metadata": {},
   "outputs": [],
   "source": [
    "fancy_strs = [FancyString(i) for i in IC_samplew if i != 'none']"
   ]
  },
  {
   "cell_type": "code",
   "execution_count": 247,
   "metadata": {},
   "outputs": [],
   "source": [
    "df_constructed = pd.DataFrame({\n",
    "    \n",
    "    'pID': pID,\n",
    "    'passive': [i.is_passive() for i in fancy_strs],\n",
    "    'wc': [i.wordcount() for i in fancy_strs],\n",
    "    'mec': [i.me_count() for i in fancy_strs],\n",
    "    'adc': [i.ad_count() for i in fancy_strs],\n",
    "    'val': [1] * len(fancy_strs),\n",
    "    'group': ['stress']*len(stress_text) +['pleasant']*len(pleasant_text)+['unpleasant']*len(unpleasant_text)\n",
    "    \n",
    "})"
   ]
  },
  {
   "cell_type": "code",
   "execution_count": 248,
   "metadata": {},
   "outputs": [],
   "source": [
    "df_const_short = df_constructed.groupby(['pID', 'group']).agg('mean')"
   ]
  },
  {
   "cell_type": "code",
   "execution_count": 249,
   "metadata": {},
   "outputs": [],
   "source": [
    "formal_vals = pd.pivot_table(df_const_short, index=['pID'], columns=['group'], aggfunc=np.sum, fill_value=0)\n",
    "formal_vals = formal_vals.reset_index()\n",
    "formal_vals.columns = ['pID', 'adc_stress', 'adc_pleasant', 'adc_unpleasant', 'mec_stress', 'mec_pleasant', 'mec_unpleasant', 'passive_stress', 'passive_pleasant',\n",
    "       'passive_unpleasant', 'val_stress', 'val_pleasant', 'val_unpleasant', 'wc_stress', 'wc_pleasant', 'wc_unpleasant']\n",
    "formal_vals.to_csv('/users/madke/documents/092520_aapecsformalvals.csv')"
   ]
  },
  {
   "cell_type": "code",
   "execution_count": 181,
   "metadata": {},
   "outputs": [],
   "source": [
    "vector = [i.spacy_vec() for i in fancy_strs]"
   ]
  },
  {
   "cell_type": "code",
   "execution_count": 191,
   "metadata": {},
   "outputs": [],
   "source": [
    "vec_df = pd.DataFrame(np.vstack(vector))\n",
    "vec_df.to_csv('./092620_aapecsdims.csv')"
   ]
  },
  {
   "cell_type": "code",
   "execution_count": 250,
   "metadata": {},
   "outputs": [
    {
     "name": "stdout",
     "output_type": "stream",
     "text": [
      "2446\n",
      "4144\n",
      "1016\n"
     ]
    }
   ],
   "source": [
    "print(len(stress_text)) \n",
    "print(len(pleasant_text))\n",
    "print(len(unpleasant_text))"
   ]
  }
 ],
 "metadata": {
  "kernelspec": {
   "display_name": "Python 3",
   "language": "python",
   "name": "python3"
  },
  "language_info": {
   "codemirror_mode": {
    "name": "ipython",
    "version": 3
   },
   "file_extension": ".py",
   "mimetype": "text/x-python",
   "name": "python",
   "nbconvert_exporter": "python",
   "pygments_lexer": "ipython3",
   "version": "3.6.4"
  }
 },
 "nbformat": 4,
 "nbformat_minor": 2
}
