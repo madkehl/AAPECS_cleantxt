{
 "cells": [
  {
   "cell_type": "code",
   "execution_count": 7,
   "metadata": {},
   "outputs": [
    {
     "name": "stderr",
     "output_type": "stream",
     "text": [
      "C:\\Users\\madke\\Anaconda3\\lib\\site-packages\\h5py\\__init__.py:36: FutureWarning: Conversion of the second argument of issubdtype from `float` to `np.floating` is deprecated. In future, it will be treated as `np.float64 == np.dtype(float).type`.\n",
      "  from ._conv import register_converters as _register_converters\n",
      "Using TensorFlow backend.\n"
     ]
    }
   ],
   "source": [
    "#basic imports\n",
    "import pandas as pd\n",
    "import numpy as np\n",
    "import math\n",
    "#ml stuff\n",
    "import tensorflow as tf\n",
    "from tensorflow import keras\n",
    "from keras.layers import Dense\n",
    "from keras.models import Model\n",
    "from keras.models import Sequential\n",
    "#metrics + sklearn\n",
    "from scipy import spatial\n",
    "from hdbscan import HDBSCAN\n",
    "from sklearn import metrics\n",
    "from sklearn import decomposition\n",
    "from sklearn import svm\n",
    "from sklearn.model_selection import train_test_split\n",
    "from sklearn.ensemble import RandomForestClassifier\n",
    "from sklearn.preprocessing import MinMaxScaler\n",
    "from keras.models import Sequential\n",
    "from keras.layers import Dense, LSTM\n",
    "import numpy as np \n",
    "#data visualization\n",
    "import plotly.graph_objs as go\n",
    "import plotly\n",
    "import hiplot as hip"
   ]
  },
  {
   "cell_type": "code",
   "execution_count": 8,
   "metadata": {},
   "outputs": [],
   "source": [
    "#aware merge will strip down to 120\n",
    "aware = pd.read_csv('/users/madke/downloads/aware_personality_8-4.csv', index_col = 0)\n",
    "awaregb = aware.groupby('participantID')\n",
    "\n",
    "\n",
    "aware['localDate'] =pd.to_datetime(aware.localDate)\n",
    "aware = aware.loc[:, aware.isna().mean() < .40]\n",
    "\n",
    "sequences = []\n",
    "for i in list(set(aware['participantID'])):\n",
    "    unit = awaregb.get_group(i)\n",
    "    unit = unit.sort_values(by='localDate')\n",
    "    unit = unit.reset_index(drop = True)\n",
    "    sequences.append(unit.reset_index(drop = False))\n",
    "\n",
    "\n",
    "imp_seq = []\n",
    "for i in sequences:\n",
    "    needs_fixed = i.iloc[:,2:(len(i.columns)-10)]\n",
    "    fixed = needs_fixed.fillna(needs_fixed.mean())\n",
    "    fixed = fixed.fillna(0)\n",
    "    new = pd.concat([i.iloc[:,0:2], fixed, i.iloc[:, (len(i.columns)-10):(len(i.columns))]], axis = 1)\n",
    "    imp_seq.append(new)\n",
    "  "
   ]
  },
  {
   "cell_type": "code",
   "execution_count": 9,
   "metadata": {},
   "outputs": [],
   "source": [
    "dep_vars = []\n",
    "indep_vars = []\n",
    "for i in imp_seq:\n",
    "    dep = i.iloc[:, (len(i.columns)-10):(len(i.columns))]\n",
    "    dep = dep.iloc[:1, :]\n",
    "    dep_vars.append(np.array(dep))\n",
    "    indep = i.iloc[:, 0:len(i.columns)-10].drop(['participantID', 'localDate'], axis = 1)\n",
    "    indep_vars.append(indep)\n",
    "#here is padding the values for nns (same size 90th percentile)\n",
    "pad_imp = []\n",
    "for i in indep_vars:\n",
    "    if len(i['index']) >= 21:\n",
    "        pad_imp.append(np.array(i.iloc[0:21,:]))\n",
    "    else:\n",
    "        count = 21 - len(i['index'])\n",
    "        for z in range(0,count):\n",
    "            i.loc[len(i)] = 0\n",
    "        pad_imp.append(np.array(i))\n",
    "    "
   ]
  },
  {
   "cell_type": "code",
   "execution_count": 31,
   "metadata": {},
   "outputs": [],
   "source": [
    "# split a  sequence into samples\n",
    "#https://machinelearningmastery.com/how-to-develop-lstm-models-for-time-series-forecasting/\n",
    "def split_sequence(sequence, n_steps = 3):\n",
    "    X, y = list(), list()\n",
    "    for i in range(sequence.shape[0]):\n",
    "# find the end of this pattern\n",
    "        end_ix = i + n_steps\n",
    "    # check if we are beyond the sequence\n",
    "        if end_ix > sequence.shape[0] -1:\n",
    "            break\n",
    "            # gather input and output parts of the pattern\n",
    "        seq_x, seq_y = sequence[i:end_ix, :], sequence[end_ix, :]\n",
    "        X.append(seq_x)\n",
    "        y.append(seq_y)\n",
    "    return np.array(X), np.array(y)\n",
    " \n"
   ]
  },
  {
   "cell_type": "code",
   "execution_count": 120,
   "metadata": {},
   "outputs": [],
   "source": [
    "X_ls = []\n",
    "y_ls = []\n",
    "for i in pad_imp:\n",
    "    X, y = split_sequence(i)\n",
    "    X_ls.append(X)\n",
    "    y_ls.append(y)"
   ]
  },
  {
   "cell_type": "code",
   "execution_count": 121,
   "metadata": {},
   "outputs": [
    {
     "data": {
      "text/plain": [
       "(18, 3, 385)"
      ]
     },
     "execution_count": 121,
     "metadata": {},
     "output_type": "execute_result"
    }
   ],
   "source": [
    "X_ls[1].shape"
   ]
  },
  {
   "cell_type": "code",
   "execution_count": 124,
   "metadata": {},
   "outputs": [
    {
     "name": "stdout",
     "output_type": "stream",
     "text": [
      "(2160, 385)\n"
     ]
    }
   ],
   "source": [
    "dep_vars_ls = y_ls\n",
    "indep_vars_ls =X_ls\n",
    "indep_vars_ls = np.where(np.isnan(indep_vars_ls),0,indep_vars_ls)\n",
    "\n",
    "\n",
    "y = np.vstack(dep_vars_ls)\n",
    "\n",
    "# normalize the dataset\n",
    "scaler = MinMaxScaler(feature_range=(0, 1))\n",
    "y = scaler.fit_transform(y)\n",
    "\n",
    "#y = y.reshape(120,18,385)\n",
    "y = np.where(np.isnan(y),0,y)\n",
    "\n",
    "# normalize the dataset\n",
    "X = np.array(indep_vars_ls)\n",
    "scaled = np.vstack(X)\n",
    "\n",
    "print(y.shape)\n",
    "scaler = MinMaxScaler(feature_range=(0, 1))\n",
    "scaled = scaled.reshape(2160,3,385)\n",
    "X = scaled\n",
    "X = np.where(np.isnan(X),0,X)\n",
    "#[samples, timesteps, features]"
   ]
  },
  {
   "cell_type": "code",
   "execution_count": 98,
   "metadata": {},
   "outputs": [
    {
     "data": {
      "text/plain": [
       "(2160, 385)"
      ]
     },
     "execution_count": 98,
     "metadata": {},
     "output_type": "execute_result"
    }
   ],
   "source": [
    "y.shape"
   ]
  },
  {
   "cell_type": "code",
   "execution_count": 125,
   "metadata": {},
   "outputs": [],
   "source": [
    "\n",
    "n_steps, n_features = X.shape[1], X.shape[2]\n",
    "model = Sequential()\n",
    "model.add(LSTM(50, activation='relu', input_shape=(n_steps, n_features)))\n",
    "model.add(Dense(385, input_shape=(n_steps, n_features)))\n",
    "model.compile(optimizer='adam', loss='mse')"
   ]
  },
  {
   "cell_type": "code",
   "execution_count": 126,
   "metadata": {},
   "outputs": [
    {
     "name": "stdout",
     "output_type": "stream",
     "text": [
      "Model: \"sequential_18\"\n",
      "_________________________________________________________________\n",
      "Layer (type)                 Output Shape              Param #   \n",
      "=================================================================\n",
      "lstm_17 (LSTM)               (None, 50)                87200     \n",
      "_________________________________________________________________\n",
      "dense_13 (Dense)             (None, 385)               19635     \n",
      "=================================================================\n",
      "Total params: 106,835\n",
      "Trainable params: 106,835\n",
      "Non-trainable params: 0\n",
      "_________________________________________________________________\n"
     ]
    }
   ],
   "source": [
    "model.summary()"
   ]
  },
  {
   "cell_type": "code",
   "execution_count": null,
   "metadata": {},
   "outputs": [],
   "source": [
    "model.fit(X, y, epochs=200, verbose=0)"
   ]
  },
  {
   "cell_type": "code",
   "execution_count": 77,
   "metadata": {},
   "outputs": [
    {
     "ename": "NameError",
     "evalue": "name 'X_train' is not defined",
     "output_type": "error",
     "traceback": [
      "\u001b[1;31m---------------------------------------------------------------------------\u001b[0m",
      "\u001b[1;31mNameError\u001b[0m                                 Traceback (most recent call last)",
      "\u001b[1;32m<ipython-input-77-ea2b6fe45978>\u001b[0m in \u001b[0;36m<module>\u001b[1;34m\u001b[0m\n\u001b[0;32m     11\u001b[0m \u001b[1;33m\u001b[0m\u001b[0m\n\u001b[0;32m     12\u001b[0m \u001b[0mmodel\u001b[0m \u001b[1;33m=\u001b[0m \u001b[0mSequential\u001b[0m\u001b[1;33m(\u001b[0m\u001b[1;33m)\u001b[0m\u001b[1;33m\u001b[0m\u001b[0m\n\u001b[1;32m---> 13\u001b[1;33m \u001b[0mmodel\u001b[0m\u001b[1;33m.\u001b[0m\u001b[0madd\u001b[0m\u001b[1;33m(\u001b[0m\u001b[0mDense\u001b[0m\u001b[1;33m(\u001b[0m\u001b[1;36m100\u001b[0m\u001b[1;33m,\u001b[0m \u001b[0minput_shape\u001b[0m\u001b[1;33m=\u001b[0m\u001b[1;33m(\u001b[0m\u001b[0mX_train\u001b[0m\u001b[1;33m.\u001b[0m\u001b[0mshape\u001b[0m\u001b[1;33m[\u001b[0m\u001b[1;36m1\u001b[0m\u001b[1;33m]\u001b[0m\u001b[1;33m,\u001b[0m \u001b[0mX_train\u001b[0m\u001b[1;33m.\u001b[0m\u001b[0mshape\u001b[0m\u001b[1;33m[\u001b[0m\u001b[1;36m2\u001b[0m\u001b[1;33m]\u001b[0m\u001b[1;33m)\u001b[0m\u001b[1;33m,\u001b[0m \u001b[0mactivation\u001b[0m\u001b[1;33m=\u001b[0m\u001b[0mactiv_h\u001b[0m\u001b[1;33m,\u001b[0m \u001b[0mkernel_initializer\u001b[0m\u001b[1;33m=\u001b[0m\u001b[0mKI_h\u001b[0m\u001b[1;33m)\u001b[0m\u001b[1;33m)\u001b[0m\u001b[1;33m\u001b[0m\u001b[0m\n\u001b[0m\u001b[0;32m     14\u001b[0m \u001b[1;31m#model.add(Dense(50, input_shape=(X_train.shape[1], X_train.shape[2]), activation=activ_h, kernel_initializer=KI_h))\u001b[0m\u001b[1;33m\u001b[0m\u001b[1;33m\u001b[0m\u001b[0m\n\u001b[0;32m     15\u001b[0m \u001b[1;31m#model.add(Dense(25, input_shape=(X_train.shape[1], X_train.shape[2]), activation=activ_h, kernel_initializer=KI_h))\u001b[0m\u001b[1;33m\u001b[0m\u001b[1;33m\u001b[0m\u001b[0m\n",
      "\u001b[1;31mNameError\u001b[0m: name 'X_train' is not defined"
     ]
    }
   ],
   "source": [
    "np.random.seed(300)\n",
    "tf.compat.v1.random.set_random_seed(2005)\n",
    "\n",
    "learn = 0.01\n",
    "opt = tf.optimizers.Adam(lr= learn, amsgrad = True)\n",
    "#opt = tf.optimizers.Adadelta(lr= learn)\n",
    "\n",
    "loss_fctn = 'mean_squared_error'\n",
    "activ_h = 'tanh'  #selu, tanh\n",
    "KI_h = 'glorot_uniform'\n",
    "\n",
    "model = Sequential()\n",
    "model.add(Dense(100, input_shape=(X_train.shape[1], X_train.shape[2]), activation=activ_h, kernel_initializer=KI_h))\n",
    "#model.add(Dense(50, input_shape=(X_train.shape[1], X_train.shape[2]), activation=activ_h, kernel_initializer=KI_h))\n",
    "#model.add(Dense(25, input_shape=(X_train.shape[1], X_train.shape[2]), activation=activ_h, kernel_initializer=KI_h))\n",
    "model.add(LSTM(32, activation=activ_h, kernel_initializer=KI_h, return_sequences=True, input_shape=(X_train.shape[1], X_train.shape[2]), recurrent_dropout = 0.4,dropout=0.4))\n",
    "model.add(LSTM(32, activation=activ_h, kernel_initializer=KI_h, return_sequences=True, recurrent_dropout = 0.2,   dropout=0.2))\n",
    "model.add(LSTM(32, activation=activ_h, kernel_initializer=KI_h, return_sequences=True, recurrent_dropout = 0.2,   dropout=0.2))\n",
    "model.add(LSTM(32))\n",
    "model.add(Dense(16, input_dim=32, activation=activ_h, kernel_initializer=KI_h))\n",
    "model.add(Dense(1, activation = 'sigmoid'))\n",
    "model.compile(loss=loss_fctn, optimizer=opt,  metrics=['acc', 'mae', 'msle', 'mse'])\n",
    " \n"
   ]
  },
  {
   "cell_type": "code",
   "execution_count": null,
   "metadata": {},
   "outputs": [],
   "source": []
  }
 ],
 "metadata": {
  "kernelspec": {
   "display_name": "Python 3",
   "language": "python",
   "name": "python3"
  },
  "language_info": {
   "codemirror_mode": {
    "name": "ipython",
    "version": 3
   },
   "file_extension": ".py",
   "mimetype": "text/x-python",
   "name": "python",
   "nbconvert_exporter": "python",
   "pygments_lexer": "ipython3",
   "version": "3.6.4"
  }
 },
 "nbformat": 4,
 "nbformat_minor": 2
}
